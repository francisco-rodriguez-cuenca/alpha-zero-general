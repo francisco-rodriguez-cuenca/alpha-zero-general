{
 "cells": [
  {
   "cell_type": "markdown",
   "metadata": {},
   "source": [
    "# Tournament to evaluate ELO"
   ]
  },
  {
   "cell_type": "markdown",
   "metadata": {},
   "source": [
    "##  Library imports"
   ]
  },
  {
   "cell_type": "code",
   "execution_count": 9,
   "metadata": {},
   "outputs": [],
   "source": [
    "import numpy as np\n",
    "import pandas as pd\n",
    "from glob import glob\n",
    "\n",
    "\n",
    "import sys\n",
    "sys.setrecursionlimit(199999)"
   ]
  },
  {
   "cell_type": "markdown",
   "metadata": {},
   "source": [
    "## Path variables"
   ]
  },
  {
   "cell_type": "code",
   "execution_count": 10,
   "metadata": {},
   "outputs": [],
   "source": [
    "path = \"alquerque/best_models/*/*[!best][!temp].h5\""
   ]
  },
  {
   "cell_type": "code",
   "execution_count": 11,
   "metadata": {},
   "outputs": [],
   "source": [
    "players = glob(path)"
   ]
  },
  {
   "cell_type": "code",
   "execution_count": 12,
   "metadata": {},
   "outputs": [
    {
     "data": {
      "text/plain": [
       "75"
      ]
     },
     "execution_count": 12,
     "metadata": {},
     "output_type": "execute_result"
    }
   ],
   "source": [
    "len(players)"
   ]
  },
  {
   "cell_type": "markdown",
   "metadata": {},
   "source": [
    "## DataFrame Creation"
   ]
  },
  {
   "cell_type": "code",
   "execution_count": 16,
   "metadata": {},
   "outputs": [
    {
     "data": {
      "text/html": [
       "<div>\n",
       "<style scoped>\n",
       "    .dataframe tbody tr th:only-of-type {\n",
       "        vertical-align: middle;\n",
       "    }\n",
       "\n",
       "    .dataframe tbody tr th {\n",
       "        vertical-align: top;\n",
       "    }\n",
       "\n",
       "    .dataframe thead th {\n",
       "        text-align: right;\n",
       "    }\n",
       "</style>\n",
       "<table border=\"1\" class=\"dataframe\">\n",
       "  <thead>\n",
       "    <tr style=\"text-align: right;\">\n",
       "      <th></th>\n",
       "      <th>Player_1</th>\n",
       "      <th>Player_2</th>\n",
       "    </tr>\n",
       "  </thead>\n",
       "  <tbody>\n",
       "    <tr>\n",
       "      <th>1526</th>\n",
       "      <td>alquerque/best_models/100_nonsymetric/checkpoi...</td>\n",
       "      <td>alquerque/best_models/100_nonsymetric/checkpoi...</td>\n",
       "    </tr>\n",
       "    <tr>\n",
       "      <th>373</th>\n",
       "      <td>alquerque/best_models/100_nonsymetric/checkpoi...</td>\n",
       "      <td>alquerque/best_models/200_nonsymetric_10max/ch...</td>\n",
       "    </tr>\n",
       "    <tr>\n",
       "      <th>3974</th>\n",
       "      <td>alquerque/best_models/200_nonsymetric_30max/ch...</td>\n",
       "      <td>alquerque/best_models/200_nonsymetric_10max/ch...</td>\n",
       "    </tr>\n",
       "    <tr>\n",
       "      <th>2906</th>\n",
       "      <td>alquerque/best_models/200_nonsymetric_10max_10...</td>\n",
       "      <td>alquerque/best_models/200_nonsymetric_30max/ch...</td>\n",
       "    </tr>\n",
       "    <tr>\n",
       "      <th>3956</th>\n",
       "      <td>alquerque/best_models/200_nonsymetric_30max/ch...</td>\n",
       "      <td>alquerque/best_models/200_nonsymetric_30max/ch...</td>\n",
       "    </tr>\n",
       "    <tr>\n",
       "      <th>725</th>\n",
       "      <td>alquerque/best_models/100_nonsymetric/checkpoi...</td>\n",
       "      <td>alquerque/best_models/200_nonsymetric_10max_10...</td>\n",
       "    </tr>\n",
       "    <tr>\n",
       "      <th>221</th>\n",
       "      <td>alquerque/best_models/100_nonsymetric/checkpoi...</td>\n",
       "      <td>alquerque/best_models/200_nonsymetric_10max/ch...</td>\n",
       "    </tr>\n",
       "    <tr>\n",
       "      <th>650</th>\n",
       "      <td>alquerque/best_models/100_nonsymetric/checkpoi...</td>\n",
       "      <td>alquerque/best_models/200_nonsymetric_10max_10...</td>\n",
       "    </tr>\n",
       "    <tr>\n",
       "      <th>1296</th>\n",
       "      <td>alquerque/best_models/100_nonsymetric/checkpoi...</td>\n",
       "      <td>alquerque/best_models/100_nonsymetric/checkpoi...</td>\n",
       "    </tr>\n",
       "    <tr>\n",
       "      <th>2755</th>\n",
       "      <td>alquerque/best_models/100_nonsymetric/checkpoi...</td>\n",
       "      <td>alquerque/best_models/200_nonsymetric_30max/ch...</td>\n",
       "    </tr>\n",
       "  </tbody>\n",
       "</table>\n",
       "</div>"
      ],
      "text/plain": [
       "                                               Player_1  \\\n",
       "1526  alquerque/best_models/100_nonsymetric/checkpoi...   \n",
       "373   alquerque/best_models/100_nonsymetric/checkpoi...   \n",
       "3974  alquerque/best_models/200_nonsymetric_30max/ch...   \n",
       "2906  alquerque/best_models/200_nonsymetric_10max_10...   \n",
       "3956  alquerque/best_models/200_nonsymetric_30max/ch...   \n",
       "725   alquerque/best_models/100_nonsymetric/checkpoi...   \n",
       "221   alquerque/best_models/100_nonsymetric/checkpoi...   \n",
       "650   alquerque/best_models/100_nonsymetric/checkpoi...   \n",
       "1296  alquerque/best_models/100_nonsymetric/checkpoi...   \n",
       "2755  alquerque/best_models/100_nonsymetric/checkpoi...   \n",
       "\n",
       "                                               Player_2  \n",
       "1526  alquerque/best_models/100_nonsymetric/checkpoi...  \n",
       "373   alquerque/best_models/200_nonsymetric_10max/ch...  \n",
       "3974  alquerque/best_models/200_nonsymetric_10max/ch...  \n",
       "2906  alquerque/best_models/200_nonsymetric_30max/ch...  \n",
       "3956  alquerque/best_models/200_nonsymetric_30max/ch...  \n",
       "725   alquerque/best_models/200_nonsymetric_10max_10...  \n",
       "221   alquerque/best_models/200_nonsymetric_10max/ch...  \n",
       "650   alquerque/best_models/200_nonsymetric_10max_10...  \n",
       "1296  alquerque/best_models/100_nonsymetric/checkpoi...  \n",
       "2755  alquerque/best_models/200_nonsymetric_30max/ch...  "
      ]
     },
     "execution_count": 16,
     "metadata": {},
     "output_type": "execute_result"
    }
   ],
   "source": [
    "games_df = (\n",
    "    pd.merge(\n",
    "        pd.Series(players).rename(\"Player_1\"),\n",
    "        pd.Series(players).rename(\"Player_2\"),\n",
    "        how = \"cross\"\n",
    "    )\n",
    "    .loc[lambda a: \n",
    "        (a.Player_1 != a.Player_2) & # Eliminar partidas contra uno mismo\n",
    "        ~a.apply(frozenset, axis=1).duplicated() # Eliminar duplicados ab == ba\n",
    "    ]\n",
    "    # .groupby('Player_1').apply(lambda x: x.sample(10)).reset_index(drop=True) # Select number of games per player\n",
    "    .sample(n = 10)\n",
    ")\n",
    "games_df"
   ]
  },
  {
   "cell_type": "markdown",
   "metadata": {},
   "source": [
    "## Player function"
   ]
  },
  {
   "cell_type": "markdown",
   "metadata": {},
   "source": [
    "### Librerías"
   ]
  },
  {
   "cell_type": "code",
   "execution_count": 17,
   "metadata": {},
   "outputs": [],
   "source": [
    "import Arena\n",
    "from MCTS import MCTS\n",
    "from alquerque.AlquerqueGame import AlquerqueGame\n",
    "from alquerque.AlquerquePlayers import *\n",
    "from alquerque.keras.NNet import NNetWrapper as NNet\n",
    "\n",
    "import tensorflow.compat.v2 as tf\n",
    "physical_devices = tf.config.list_physical_devices('GPU') \n",
    "gpus = tf.config.experimental.list_physical_devices('GPU')\n",
    "for gpu in gpus:\n",
    "    tf.config.experimental.set_memory_growth(gpu, True)\n",
    "\n",
    "\n",
    "from utils import *"
   ]
  },
  {
   "cell_type": "markdown",
   "metadata": {},
   "source": [
    "### Juegos"
   ]
  },
  {
   "cell_type": "code",
   "execution_count": 18,
   "metadata": {},
   "outputs": [],
   "source": [
    "def pit(players):\n",
    "    \n",
    "    # Game\n",
    "\n",
    "    g = AlquerqueGame()\n",
    "\n",
    "    # Jugadores\n",
    "\n",
    "    n1 = NNet(g)\n",
    "    n1.load_checkpoint(\"/\".join(players[0].split(\"/\")[:-1]), players[0].split(\"/\")[-1])\n",
    "    args1 = dotdict({'numMCTSSims': 5, 'cpuct':1.0})\n",
    "    mcts1 = MCTS(g, n1, args1)\n",
    "    n1p = lambda x: np.argmax(mcts1.getActionProb(x, temp=0))\n",
    "\n",
    "    n2 = NNet(g)\n",
    "    n2.load_checkpoint(\"/\".join(players[1].split(\"/\")[:-1]), players[1].split(\"/\")[-1])\n",
    "    args2 = dotdict({'numMCTSSims': 5, 'cpuct': 1.0})\n",
    "    mcts2 = MCTS(g, n2, args2)\n",
    "    n2p = lambda x: np.argmax(mcts2.getActionProb(x, temp=0))\n",
    "\n",
    "    #Juego\n",
    "\n",
    "    arena = Arena.Arena(n1p, n2p, g)\n",
    "    \n",
    "    player_1, player_2, _ =  arena.playGames(2)\n",
    "\n",
    "    if player_1 > player_2:\n",
    "        res = 1\n",
    "    elif player_1 < player_2:\n",
    "        res = 2\n",
    "    else:\n",
    "        res = 0\n",
    "\n",
    "    return res"
   ]
  },
  {
   "cell_type": "markdown",
   "metadata": {},
   "source": [
    "## Cálculo de ELO"
   ]
  },
  {
   "cell_type": "markdown",
   "metadata": {},
   "source": [
    "### Aplicación de partidas"
   ]
  },
  {
   "cell_type": "code",
   "execution_count": 19,
   "metadata": {},
   "outputs": [
    {
     "name": "stderr",
     "output_type": "stream",
     "text": [
      "Arena.playGames (1): 100%|██████████| 1/1 [00:03<00:00,  3.18s/it]\n",
      "Arena.playGames (2): 100%|██████████| 1/1 [00:03<00:00,  3.13s/it]\n",
      "Arena.playGames (1): 100%|██████████| 1/1 [00:02<00:00,  2.27s/it]\n",
      "Arena.playGames (2): 100%|██████████| 1/1 [00:03<00:00,  3.19s/it]\n",
      "Arena.playGames (1): 100%|██████████| 1/1 [00:06<00:00,  6.86s/it]\n",
      "Arena.playGames (2): 100%|██████████| 1/1 [00:09<00:00,  9.69s/it]\n",
      "Arena.playGames (1): 100%|██████████| 1/1 [00:09<00:00,  9.85s/it]\n",
      "Arena.playGames (2): 100%|██████████| 1/1 [00:02<00:00,  2.47s/it]\n",
      "Arena.playGames (1): 100%|██████████| 1/1 [00:04<00:00,  4.05s/it]\n",
      "Arena.playGames (2): 100%|██████████| 1/1 [00:09<00:00,  9.30s/it]\n",
      "Arena.playGames (1): 100%|██████████| 1/1 [00:03<00:00,  3.80s/it]\n",
      "Arena.playGames (2): 100%|██████████| 1/1 [00:02<00:00,  2.27s/it]\n",
      "Arena.playGames (1): 100%|██████████| 1/1 [00:08<00:00,  8.69s/it]\n",
      "Arena.playGames (2): 100%|██████████| 1/1 [00:03<00:00,  3.07s/it]\n",
      "Arena.playGames (1): 100%|██████████| 1/1 [00:02<00:00,  2.98s/it]\n",
      "Arena.playGames (2): 100%|██████████| 1/1 [00:02<00:00,  2.34s/it]\n",
      "Arena.playGames (1): 100%|██████████| 1/1 [00:05<00:00,  5.35s/it]\n",
      "Arena.playGames (2): 100%|██████████| 1/1 [00:02<00:00,  2.04s/it]\n",
      "Arena.playGames (1): 100%|██████████| 1/1 [00:04<00:00,  4.39s/it]\n",
      "Arena.playGames (2): 100%|██████████| 1/1 [00:09<00:00,  9.24s/it]\n"
     ]
    },
    {
     "data": {
      "text/html": [
       "<div>\n",
       "<style scoped>\n",
       "    .dataframe tbody tr th:only-of-type {\n",
       "        vertical-align: middle;\n",
       "    }\n",
       "\n",
       "    .dataframe tbody tr th {\n",
       "        vertical-align: top;\n",
       "    }\n",
       "\n",
       "    .dataframe thead th {\n",
       "        text-align: right;\n",
       "    }\n",
       "</style>\n",
       "<table border=\"1\" class=\"dataframe\">\n",
       "  <thead>\n",
       "    <tr style=\"text-align: right;\">\n",
       "      <th></th>\n",
       "      <th>Player_1</th>\n",
       "      <th>Player_2</th>\n",
       "      <th>res</th>\n",
       "    </tr>\n",
       "  </thead>\n",
       "  <tbody>\n",
       "    <tr>\n",
       "      <th>1526</th>\n",
       "      <td>alquerque/best_models/100_nonsymetric/checkpoi...</td>\n",
       "      <td>alquerque/best_models/100_nonsymetric/checkpoi...</td>\n",
       "      <td>1</td>\n",
       "    </tr>\n",
       "    <tr>\n",
       "      <th>373</th>\n",
       "      <td>alquerque/best_models/100_nonsymetric/checkpoi...</td>\n",
       "      <td>alquerque/best_models/200_nonsymetric_10max/ch...</td>\n",
       "      <td>2</td>\n",
       "    </tr>\n",
       "    <tr>\n",
       "      <th>3974</th>\n",
       "      <td>alquerque/best_models/200_nonsymetric_30max/ch...</td>\n",
       "      <td>alquerque/best_models/200_nonsymetric_10max/ch...</td>\n",
       "      <td>2</td>\n",
       "    </tr>\n",
       "    <tr>\n",
       "      <th>2906</th>\n",
       "      <td>alquerque/best_models/200_nonsymetric_10max_10...</td>\n",
       "      <td>alquerque/best_models/200_nonsymetric_30max/ch...</td>\n",
       "      <td>1</td>\n",
       "    </tr>\n",
       "    <tr>\n",
       "      <th>3956</th>\n",
       "      <td>alquerque/best_models/200_nonsymetric_30max/ch...</td>\n",
       "      <td>alquerque/best_models/200_nonsymetric_30max/ch...</td>\n",
       "      <td>2</td>\n",
       "    </tr>\n",
       "    <tr>\n",
       "      <th>725</th>\n",
       "      <td>alquerque/best_models/100_nonsymetric/checkpoi...</td>\n",
       "      <td>alquerque/best_models/200_nonsymetric_10max_10...</td>\n",
       "      <td>2</td>\n",
       "    </tr>\n",
       "    <tr>\n",
       "      <th>221</th>\n",
       "      <td>alquerque/best_models/100_nonsymetric/checkpoi...</td>\n",
       "      <td>alquerque/best_models/200_nonsymetric_10max/ch...</td>\n",
       "      <td>0</td>\n",
       "    </tr>\n",
       "    <tr>\n",
       "      <th>650</th>\n",
       "      <td>alquerque/best_models/100_nonsymetric/checkpoi...</td>\n",
       "      <td>alquerque/best_models/200_nonsymetric_10max_10...</td>\n",
       "      <td>2</td>\n",
       "    </tr>\n",
       "    <tr>\n",
       "      <th>1296</th>\n",
       "      <td>alquerque/best_models/100_nonsymetric/checkpoi...</td>\n",
       "      <td>alquerque/best_models/100_nonsymetric/checkpoi...</td>\n",
       "      <td>0</td>\n",
       "    </tr>\n",
       "    <tr>\n",
       "      <th>2755</th>\n",
       "      <td>alquerque/best_models/100_nonsymetric/checkpoi...</td>\n",
       "      <td>alquerque/best_models/200_nonsymetric_30max/ch...</td>\n",
       "      <td>2</td>\n",
       "    </tr>\n",
       "  </tbody>\n",
       "</table>\n",
       "</div>"
      ],
      "text/plain": [
       "                                               Player_1  \\\n",
       "1526  alquerque/best_models/100_nonsymetric/checkpoi...   \n",
       "373   alquerque/best_models/100_nonsymetric/checkpoi...   \n",
       "3974  alquerque/best_models/200_nonsymetric_30max/ch...   \n",
       "2906  alquerque/best_models/200_nonsymetric_10max_10...   \n",
       "3956  alquerque/best_models/200_nonsymetric_30max/ch...   \n",
       "725   alquerque/best_models/100_nonsymetric/checkpoi...   \n",
       "221   alquerque/best_models/100_nonsymetric/checkpoi...   \n",
       "650   alquerque/best_models/100_nonsymetric/checkpoi...   \n",
       "1296  alquerque/best_models/100_nonsymetric/checkpoi...   \n",
       "2755  alquerque/best_models/100_nonsymetric/checkpoi...   \n",
       "\n",
       "                                               Player_2  res  \n",
       "1526  alquerque/best_models/100_nonsymetric/checkpoi...    1  \n",
       "373   alquerque/best_models/200_nonsymetric_10max/ch...    2  \n",
       "3974  alquerque/best_models/200_nonsymetric_10max/ch...    2  \n",
       "2906  alquerque/best_models/200_nonsymetric_30max/ch...    1  \n",
       "3956  alquerque/best_models/200_nonsymetric_30max/ch...    2  \n",
       "725   alquerque/best_models/200_nonsymetric_10max_10...    2  \n",
       "221   alquerque/best_models/200_nonsymetric_10max/ch...    0  \n",
       "650   alquerque/best_models/200_nonsymetric_10max_10...    2  \n",
       "1296  alquerque/best_models/100_nonsymetric/checkpoi...    0  \n",
       "2755  alquerque/best_models/200_nonsymetric_30max/ch...    2  "
      ]
     },
     "execution_count": 19,
     "metadata": {},
     "output_type": "execute_result"
    }
   ],
   "source": [
    "games_df = (\n",
    "    games_df\n",
    "    .assign(\n",
    "        res = lambda a: a.apply(pit, axis = 1)\n",
    "    )\n",
    ")\n",
    "games_df"
   ]
  },
  {
   "cell_type": "markdown",
   "metadata": {},
   "source": [
    "### Cálculo de ELO"
   ]
  },
  {
   "cell_type": "code",
   "execution_count": 20,
   "metadata": {},
   "outputs": [
    {
     "data": {
      "text/plain": [
       "{'alquerque/best_models/100_nonsymetric/checkpoint_48.h5': {'ELO': 1000},\n",
       " 'alquerque/best_models/100_nonsymetric/checkpoint_35.h5': {'ELO': 1000},\n",
       " 'alquerque/best_models/200_nonsymetric_30max/checkpoint_2.h5': {'ELO': 1000},\n",
       " 'alquerque/best_models/200_nonsymetric_10max_100MCTS/checkpoint_2.h5': {'ELO': 1000},\n",
       " 'alquerque/best_models/100_nonsymetric/checkpoint_6.h5': {'ELO': 1000},\n",
       " 'alquerque/best_models/100_nonsymetric/checkpoint_47.h5': {'ELO': 1000},\n",
       " 'alquerque/best_models/100_nonsymetric/checkpoint_49.h5': {'ELO': 1000},\n",
       " 'alquerque/best_models/100_nonsymetric/checkpoint_88.h5': {'ELO': 1000},\n",
       " 'alquerque/best_models/100_nonsymetric/checkpoint_43.h5': {'ELO': 1000},\n",
       " 'alquerque/best_models/100_nonsymetric/checkpoint_11.h5': {'ELO': 1000},\n",
       " 'alquerque/best_models/200_nonsymetric_10max/checkpoint_19.h5': {'ELO': 1000},\n",
       " 'alquerque/best_models/200_nonsymetric_10max/checkpoint_90.h5': {'ELO': 1000},\n",
       " 'alquerque/best_models/200_nonsymetric_30max/checkpoint_6.h5': {'ELO': 1000},\n",
       " 'alquerque/best_models/200_nonsymetric_10max_100MCTS/checkpoint_14.h5': {'ELO': 1000},\n",
       " 'alquerque/best_models/200_nonsymetric_10max/checkpoint_7.h5': {'ELO': 1000},\n",
       " 'alquerque/best_models/100_nonsymetric/checkpoint_36.h5': {'ELO': 1000},\n",
       " 'alquerque/best_models/200_nonsymetric_30max/checkpoint_35.h5': {'ELO': 1000}}"
      ]
     },
     "execution_count": 20,
     "metadata": {},
     "output_type": "execute_result"
    }
   ],
   "source": [
    "elo_dict = (\n",
    "    pd.DataFrame(\n",
    "        pd.Series(\n",
    "            np.concatenate(\n",
    "                [\n",
    "                    games_df.Player_1, \n",
    "                    games_df.Player_2\n",
    "                ]\n",
    "            )\n",
    "        )\n",
    "        .rename(\"Player\")\n",
    "        .drop_duplicates()\n",
    "    )\n",
    "    .assign(\n",
    "        ELO = 1000\n",
    "    )\n",
    "    .set_index(\"Player\")\n",
    "    .to_dict('index')\n",
    ")\n",
    "elo_dict"
   ]
  },
  {
   "cell_type": "code",
   "execution_count": 21,
   "metadata": {},
   "outputs": [],
   "source": [
    "for _, row in games_df.iterrows():\n",
    "\n",
    "    K = 20 # Development coefficient\n",
    "\n",
    "    rat_1 = elo_dict[row[\"Player_1\"]][\"ELO\"]\n",
    "    rat_2 = elo_dict[row[\"Player_2\"]][\"ELO\"]\n",
    "\n",
    "    expected_score_1 = 1 / (1 + 10**((rat_2 - rat_1)/400))\n",
    "    expected_score_2= 1 / (1 + 10**((rat_1 - rat_2)/400))\n",
    "\n",
    "    if row[\"res\"] == 1:\n",
    "\n",
    "        rat_1_new = rat_1 + K * (1 - expected_score_1)\n",
    "        rat_2_new = rat_2 + K * (0 - expected_score_2)\n",
    "\n",
    "    elif row[\"res\"] == 2:\n",
    "        \n",
    "        rat_2_new = rat_2 + K * (1 - expected_score_2)\n",
    "        rat_1_new = rat_1 + K * (0 - expected_score_1)\n",
    "        \n",
    "    else:\n",
    "        \n",
    "        rat_2_new = rat_2 + K * (0.5 - expected_score_2)\n",
    "        rat_1_new = rat_1 + K * (0.5 - expected_score_1)\n",
    "\n",
    "    # Actualizar valores ELO\n",
    "\n",
    "    elo_dict[row[\"Player_1\"]][\"ELO\"] = rat_1_new\n",
    "    elo_dict[row[\"Player_2\"]][\"ELO\"] = rat_2_new"
   ]
  },
  {
   "cell_type": "code",
   "execution_count": 31,
   "metadata": {},
   "outputs": [
    {
     "data": {
      "text/html": [
       "<div>\n",
       "<style scoped>\n",
       "    .dataframe tbody tr th:only-of-type {\n",
       "        vertical-align: middle;\n",
       "    }\n",
       "\n",
       "    .dataframe tbody tr th {\n",
       "        vertical-align: top;\n",
       "    }\n",
       "\n",
       "    .dataframe thead th {\n",
       "        text-align: right;\n",
       "    }\n",
       "</style>\n",
       "<table border=\"1\" class=\"dataframe\">\n",
       "  <thead>\n",
       "    <tr style=\"text-align: right;\">\n",
       "      <th></th>\n",
       "      <th>ELO</th>\n",
       "    </tr>\n",
       "  </thead>\n",
       "  <tbody>\n",
       "    <tr>\n",
       "      <th>alquerque/best_models/100_nonsymetric/checkpoint_11.h5</th>\n",
       "      <td>990.000000</td>\n",
       "    </tr>\n",
       "    <tr>\n",
       "      <th>alquerque/best_models/100_nonsymetric/checkpoint_35.h5</th>\n",
       "      <td>990.000000</td>\n",
       "    </tr>\n",
       "    <tr>\n",
       "      <th>alquerque/best_models/100_nonsymetric/checkpoint_36.h5</th>\n",
       "      <td>1000.000000</td>\n",
       "    </tr>\n",
       "    <tr>\n",
       "      <th>alquerque/best_models/100_nonsymetric/checkpoint_43.h5</th>\n",
       "      <td>990.000000</td>\n",
       "    </tr>\n",
       "    <tr>\n",
       "      <th>alquerque/best_models/100_nonsymetric/checkpoint_47.h5</th>\n",
       "      <td>1000.000000</td>\n",
       "    </tr>\n",
       "    <tr>\n",
       "      <th>alquerque/best_models/100_nonsymetric/checkpoint_48.h5</th>\n",
       "      <td>1010.000000</td>\n",
       "    </tr>\n",
       "    <tr>\n",
       "      <th>alquerque/best_models/100_nonsymetric/checkpoint_49.h5</th>\n",
       "      <td>990.287744</td>\n",
       "    </tr>\n",
       "    <tr>\n",
       "      <th>alquerque/best_models/100_nonsymetric/checkpoint_6.h5</th>\n",
       "      <td>990.000000</td>\n",
       "    </tr>\n",
       "    <tr>\n",
       "      <th>alquerque/best_models/100_nonsymetric/checkpoint_88.h5</th>\n",
       "      <td>1000.000000</td>\n",
       "    </tr>\n",
       "    <tr>\n",
       "      <th>alquerque/best_models/200_nonsymetric_10max/checkpoint_19.h5</th>\n",
       "      <td>1010.000000</td>\n",
       "    </tr>\n",
       "    <tr>\n",
       "      <th>alquerque/best_models/200_nonsymetric_10max/checkpoint_7.h5</th>\n",
       "      <td>1000.000000</td>\n",
       "    </tr>\n",
       "    <tr>\n",
       "      <th>alquerque/best_models/200_nonsymetric_10max/checkpoint_90.h5</th>\n",
       "      <td>1010.000000</td>\n",
       "    </tr>\n",
       "    <tr>\n",
       "      <th>alquerque/best_models/200_nonsymetric_10max_100MCTS/checkpoint_14.h5</th>\n",
       "      <td>1019.712256</td>\n",
       "    </tr>\n",
       "    <tr>\n",
       "      <th>alquerque/best_models/200_nonsymetric_10max_100MCTS/checkpoint_2.h5</th>\n",
       "      <td>1010.000000</td>\n",
       "    </tr>\n",
       "    <tr>\n",
       "      <th>alquerque/best_models/200_nonsymetric_30max/checkpoint_2.h5</th>\n",
       "      <td>980.000000</td>\n",
       "    </tr>\n",
       "    <tr>\n",
       "      <th>alquerque/best_models/200_nonsymetric_30max/checkpoint_35.h5</th>\n",
       "      <td>1010.000000</td>\n",
       "    </tr>\n",
       "    <tr>\n",
       "      <th>alquerque/best_models/200_nonsymetric_30max/checkpoint_6.h5</th>\n",
       "      <td>1000.000000</td>\n",
       "    </tr>\n",
       "  </tbody>\n",
       "</table>\n",
       "</div>"
      ],
      "text/plain": [
       "                                                            ELO\n",
       "alquerque/best_models/100_nonsymetric/checkpoin...   990.000000\n",
       "alquerque/best_models/100_nonsymetric/checkpoin...   990.000000\n",
       "alquerque/best_models/100_nonsymetric/checkpoin...  1000.000000\n",
       "alquerque/best_models/100_nonsymetric/checkpoin...   990.000000\n",
       "alquerque/best_models/100_nonsymetric/checkpoin...  1000.000000\n",
       "alquerque/best_models/100_nonsymetric/checkpoin...  1010.000000\n",
       "alquerque/best_models/100_nonsymetric/checkpoin...   990.287744\n",
       "alquerque/best_models/100_nonsymetric/checkpoin...   990.000000\n",
       "alquerque/best_models/100_nonsymetric/checkpoin...  1000.000000\n",
       "alquerque/best_models/200_nonsymetric_10max/che...  1010.000000\n",
       "alquerque/best_models/200_nonsymetric_10max/che...  1000.000000\n",
       "alquerque/best_models/200_nonsymetric_10max/che...  1010.000000\n",
       "alquerque/best_models/200_nonsymetric_10max_100...  1019.712256\n",
       "alquerque/best_models/200_nonsymetric_10max_100...  1010.000000\n",
       "alquerque/best_models/200_nonsymetric_30max/che...   980.000000\n",
       "alquerque/best_models/200_nonsymetric_30max/che...  1010.000000\n",
       "alquerque/best_models/200_nonsymetric_30max/che...  1000.000000"
      ]
     },
     "execution_count": 31,
     "metadata": {},
     "output_type": "execute_result"
    }
   ],
   "source": [
    "elo_df = pd.DataFrame.from_dict(elo_dict, orient = \"index\")\n",
    "elo_df"
   ]
  },
  {
   "cell_type": "code",
   "execution_count": 32,
   "metadata": {},
   "outputs": [],
   "source": [
    "elo_df.to_csv(\"ELO.csv\", sep = \";\")"
   ]
  }
 ],
 "metadata": {
  "kernelspec": {
   "display_name": "Python 3.7.10",
   "language": "python",
   "name": "python3"
  },
  "language_info": {
   "codemirror_mode": {
    "name": "ipython",
    "version": 3
   },
   "file_extension": ".py",
   "mimetype": "text/x-python",
   "name": "python",
   "nbconvert_exporter": "python",
   "pygments_lexer": "ipython3",
   "version": "3.7.10"
  },
  "orig_nbformat": 4,
  "vscode": {
   "interpreter": {
    "hash": "ba93574b074e1ce8237de42bc6c1e6382943f1d36bd95fc421693574d3b6f29c"
   }
  }
 },
 "nbformat": 4,
 "nbformat_minor": 2
}
