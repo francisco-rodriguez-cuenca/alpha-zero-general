{
 "cells": [
  {
   "cell_type": "code",
   "execution_count": 1,
   "metadata": {},
   "outputs": [],
   "source": [
    "import numpy as np"
   ]
  },
  {
   "cell_type": "code",
   "execution_count": 2,
   "metadata": {},
   "outputs": [],
   "source": [
    "def legal_move(position, board):\n",
    "    \"Returns if a move is legal\"\n",
    "    return np.all((position >= 0) & (position <= 4)) and board[tuple(position)] == \"\""
   ]
  },
  {
   "cell_type": "code",
   "execution_count": 6,
   "metadata": {},
   "outputs": [],
   "source": [
    "def next_movement(piece, board):\n",
    "    \"\"\"\n",
    "    Return posible next positions based on the type of piece, its position on the board, and the board itself\n",
    "    ---\n",
    "    Returns a numpy array of posible moves\n",
    "    \"\"\"\n",
    "\n",
    "    pos = position(piece, board)\n",
    "\n",
    "    if (pos[0] + pos[1]) % 2 == 0:\n",
    "        movement_set = np.array(\n",
    "            [\n",
    "                (-1,-1), (0,-1), (1,-1),\n",
    "                (-1, 0),         (1, 0), \n",
    "                (-1, 1), (0, 1), (1, 1)\n",
    "            ]\n",
    "        )\n",
    "    else:\n",
    "        movement_set = np.array(\n",
    "            [\n",
    "                        (0,-1),\n",
    "                (-1, 0),         (1, 0), \n",
    "                        (0, 1),\n",
    "            ]\n",
    "        )\n",
    "\n",
    "    next_movement = np.array([m+pos for m in movement_set if legal_move(m+pos, board)])\n",
    "\n",
    "    if piece[0]:\n",
    "\n",
    "        jump_movement = np.array([m*2 + pos for m in movement_set if legal_move(m*2 + pos, board) and board[tuple(m + pos)] == \"X\"])\n",
    "\n",
    "        if piece[1] == 0:\n",
    "\n",
    "            c_array = np.array([a for a in [next_movement, jump_movement] if a.size != 0])\n",
    "            if c_array.size != 0:\n",
    "                next_movement = np.concatenate(c_array)\n",
    "\n",
    "        else:\n",
    "\n",
    "            next_movement = jump_movement\n",
    "\n",
    "\n",
    "    return pos, next_movement\n",
    "\n",
    "def result(piece, board):\n",
    "\n",
    "    \"\"\" Returns who wins (if any)\"\"\"\n",
    "\n",
    "    if piece[0] and next_movement(piece, board)[1].size == 0: #If the hare can't move\n",
    "        res = \"Hare loses\"\n",
    "    elif np.count_nonzero(board == \"X\") <= 9:\n",
    "        res = \"Hare wins\"\n",
    "    else:\n",
    "        res = \"Not yet\"\n",
    "\n",
    "    return res\n",
    "\n",
    "def position(piece, board):\n",
    "    \"Returns the position of a piece on the board as a tuple\"\n",
    "\n",
    "    if piece[0]:\n",
    "        pos = tuple(np.argwhere(board == \"0\")[0])\n",
    "    else:\n",
    "        pos = tuple(np.argwhere(board == \"X\")[piece[1]])\n",
    "\n",
    "    return pos\n"
   ]
  },
  {
   "cell_type": "code",
   "execution_count": 7,
   "metadata": {},
   "outputs": [
    {
     "name": "stdout",
     "output_type": "stream",
     "text": [
      "Piece in position (4, 4) can move to []\n"
     ]
    }
   ],
   "source": [
    "board = np.array([\n",
    "    ['' , '' , '' , '' , 'X'],\n",
    "    ['X', 'X', 'X', 'X', '' ],\n",
    "    ['' , 'X', 'X', '' , 'X'],\n",
    "    ['' , '' , '' , 'X', 'X' ],\n",
    "    ['' , '' , 'X' , 'X', '0']\n",
    "    ])\n",
    "piece = (True, 0) \n",
    "\n",
    "# The first number indicates True if hare, False if hunters\n",
    "# The second number indicates the number of consecutive moves by a hare or the index of the hunter, \n",
    "\n",
    "\n",
    "pos, movements = next_movement(piece, board)\n",
    "\n",
    "print(f\"Piece in position {pos} can move to {movements}\")"
   ]
  },
  {
   "cell_type": "code",
   "execution_count": 8,
   "metadata": {},
   "outputs": [
    {
     "ename": "TypeError",
     "evalue": "result() takes 2 positional arguments but 3 were given",
     "output_type": "error",
     "traceback": [
      "\u001b[0;31m---------------------------------------------------------------------------\u001b[0m",
      "\u001b[0;31mTypeError\u001b[0m                                 Traceback (most recent call last)",
      "\u001b[0;32m<ipython-input-8-0b4a765bf4fe>\u001b[0m in \u001b[0;36m<module>\u001b[0;34m\u001b[0m\n\u001b[0;32m----> 1\u001b[0;31m \u001b[0mresult\u001b[0m\u001b[0;34m(\u001b[0m\u001b[0mpiece\u001b[0m\u001b[0;34m,\u001b[0m \u001b[0mmovements\u001b[0m\u001b[0;34m,\u001b[0m \u001b[0mboard\u001b[0m\u001b[0;34m)\u001b[0m\u001b[0;34m\u001b[0m\u001b[0;34m\u001b[0m\u001b[0m\n\u001b[0m",
      "\u001b[0;31mTypeError\u001b[0m: result() takes 2 positional arguments but 3 were given"
     ]
    }
   ],
   "source": [
    "result(piece, board)\n"
   ]
  },
  {
   "cell_type": "code",
   "execution_count": null,
   "metadata": {},
   "outputs": [],
   "source": []
  }
 ],
 "metadata": {
  "kernelspec": {
   "display_name": "Python 3.7.10",
   "language": "python",
   "name": "python3"
  },
  "language_info": {
   "codemirror_mode": {
    "name": "ipython",
    "version": 3
   },
   "file_extension": ".py",
   "mimetype": "text/x-python",
   "name": "python",
   "nbconvert_exporter": "python",
   "pygments_lexer": "ipython3",
   "version": "3.7.10"
  },
  "orig_nbformat": 4,
  "vscode": {
   "interpreter": {
    "hash": "ba93574b074e1ce8237de42bc6c1e6382943f1d36bd95fc421693574d3b6f29c"
   }
  }
 },
 "nbformat": 4,
 "nbformat_minor": 2
}
