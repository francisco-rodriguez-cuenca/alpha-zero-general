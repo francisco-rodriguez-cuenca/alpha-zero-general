{
 "cells": [
  {
   "cell_type": "code",
   "execution_count": 1,
   "metadata": {},
   "outputs": [],
   "source": [
    "import numpy as np"
   ]
  },
  {
   "cell_type": "code",
   "execution_count": 2,
   "metadata": {},
   "outputs": [],
   "source": [
    "def legal_move(position, board):\n",
    "    \"Returns if a move is legal\"\n",
    "    return np.all((position >= 0) & (position <= 4)) and board[tuple(position)] == \"\""
   ]
  },
  {
   "cell_type": "code",
   "execution_count": 3,
   "metadata": {},
   "outputs": [],
   "source": [
    "def next_movement(hare, position, board):\n",
    "    \"\"\"\n",
    "    Return posible next positions based on the type of piece, its position on the board, and the board itself\n",
    "    ---\n",
    "    Returns a numpy array of posible moves\n",
    "    \"\"\"\n",
    "\n",
    "    if (pos[0] + pos[1]) % 2 == 0:\n",
    "        movement_set = np.array(\n",
    "            [\n",
    "                (-1,-1), (0,-1), (1,-1),\n",
    "                (-1, 0),         (1, 0), \n",
    "                (-1, 1), (0, 1), (1, 1)\n",
    "            ]\n",
    "        )\n",
    "    else:\n",
    "        movement_set = np.array(\n",
    "            [\n",
    "                        (0,-1),\n",
    "                (-1, 0),         (1, 0), \n",
    "                        (0, 1),\n",
    "            ]\n",
    "        )\n",
    "\n",
    "    next_movement = np.array([m+pos for m in movement_set if legal_move(m+pos, board)])\n",
    "\n",
    "    if hare:\n",
    "\n",
    "        extra_movement = np.array([m*2 + pos for m in movement_set if legal_move(m*2 + pos, board) and board[tuple(m + pos)] == \"X\"])\n",
    "\n",
    "        c_array = [a for a in [next_movement, extra_movement] if a.size != 0]\n",
    "\n",
    "        next_movement = np.concatenate(c_array)\n",
    "\n",
    "    return next_movement\n",
    "\n",
    "def result(movements, board):\n",
    "\n",
    "    \"\"\" Returns who wins (if any\"\"\"\n",
    "\n",
    "    if movements.size == 0:\n",
    "        res = \"hare loses\"\n",
    "    elif np.count_nonzero(board == \"X\") <= 9:\n",
    "        res = \"hare wins\"\n",
    "    else:\n",
    "        res = \"Not yet\"\n",
    "\n",
    "    return res"
   ]
  },
  {
   "cell_type": "code",
   "execution_count": 12,
   "metadata": {},
   "outputs": [
    {
     "name": "stdout",
     "output_type": "stream",
     "text": [
      "Piece in position (4, 4) can move to [[2 2]\n",
      " [4 2]]\n"
     ]
    }
   ],
   "source": [
    "board = np.array([\n",
    "    ['' , '' , '' , '' , 'X'],\n",
    "    ['X', 'X', 'X', 'X', '' ],\n",
    "    ['' , 'X', '' , '' , 'X'],\n",
    "    ['' , '' , '' , 'X', 'X'],\n",
    "    ['' , '' , '' , 'X', '0']\n",
    "    ])\n",
    "hare = True\n",
    "\n",
    "n_cazador = 1\n",
    "\n",
    "if hare:\n",
    "    pos = tuple(np.argwhere(board == \"0\")[0])\n",
    "else:\n",
    "    pos = tuple(np.argwhere(board == \"X\")[n_cazador])\n",
    "\n",
    "movements = next_movement(hare, pos, board)\n",
    "\n",
    "print(f\"Piece in position {pos} can move to {movements}\")"
   ]
  },
  {
   "cell_type": "code",
   "execution_count": 10,
   "metadata": {},
   "outputs": [
    {
     "data": {
      "text/plain": [
       "'Not yet'"
      ]
     },
     "execution_count": 10,
     "metadata": {},
     "output_type": "execute_result"
    }
   ],
   "source": [
    "result(movements, board)\n"
   ]
  },
  {
   "cell_type": "code",
   "execution_count": null,
   "metadata": {},
   "outputs": [],
   "source": []
  }
 ],
 "metadata": {
  "kernelspec": {
   "display_name": "Python 3.7.10",
   "language": "python",
   "name": "python3"
  },
  "language_info": {
   "codemirror_mode": {
    "name": "ipython",
    "version": 3
   },
   "file_extension": ".py",
   "mimetype": "text/x-python",
   "name": "python",
   "nbconvert_exporter": "python",
   "pygments_lexer": "ipython3",
   "version": "3.7.10"
  },
  "orig_nbformat": 4,
  "vscode": {
   "interpreter": {
    "hash": "ba93574b074e1ce8237de42bc6c1e6382943f1d36bd95fc421693574d3b6f29c"
   }
  }
 },
 "nbformat": 4,
 "nbformat_minor": 2
}
